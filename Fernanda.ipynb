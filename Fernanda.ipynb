{
  "nbformat": 4,
  "nbformat_minor": 0,
  "metadata": {
    "colab": {
      "provenance": [],
      "authorship_tag": "ABX9TyPvW/gqUfm4ScGo177zEz81",
      "include_colab_link": true
    },
    "kernelspec": {
      "name": "python3",
      "display_name": "Python 3"
    },
    "language_info": {
      "name": "python"
    }
  },
  "cells": [
    {
      "cell_type": "markdown",
      "metadata": {
        "id": "view-in-github",
        "colab_type": "text"
      },
      "source": [
        "<a href=\"https://colab.research.google.com/github/alu230734-cmd/REPASO-PHYTON/blob/main/Fernanda.ipynb\" target=\"_parent\"><img src=\"https://colab.research.google.com/assets/colab-badge.svg\" alt=\"Open In Colab\"/></a>"
      ]
    },
    {
      "cell_type": "code",
      "execution_count": null,
      "metadata": {
        "id": "qAUh3pje5IRP"
      },
      "outputs": [],
      "source": []
    },
    {
      "cell_type": "markdown",
      "source": [
        "Ejercicios a desarrollar en colab con Github\n",
        "\n",
        "1.Realizar un programa que te permita capturar 2 num, enteros e imprima la suma, la resta, la multiplicacion y la division.\n",
        "\n",
        "2.realizar un programa en phyton mediante el cual calcules el total de caracteres que tiene un nombre desde el teclado.\n",
        "\n",
        "3.Realizar un programa en phyton que permita imprimir lo siete dias de la semana."
      ],
      "metadata": {
        "id": "gu_qTtNa5PsZ"
      }
    },
    {
      "cell_type": "code",
      "source": [
        "print(\"OPERACIONES DE DOS NUMEROS\")\n",
        "num1=int(input(\"Ingresa el numero 1: \"))\n",
        "num2=int(input(\"Ingresa el numero 2: \"))\n",
        "suma=num1+num2\n",
        "resta=num1-num2\n",
        "multiplicacion=num1*num2\n",
        "division=num1/num2\n",
        "print(\"suma: \",suma,\" resta: \", resta,\" multiplicacion: \",multiplicacion,\" division: \", division)"
      ],
      "metadata": {
        "colab": {
          "base_uri": "https://localhost:8080/"
        },
        "id": "a2wStMC38HvM",
        "outputId": "b3dcb805-ad90-4974-d019-069f70eb588d"
      },
      "execution_count": 23,
      "outputs": [
        {
          "output_type": "stream",
          "name": "stdout",
          "text": [
            "OPERACIONES DE DOS NUMEROS\n",
            "Ingresa el numero 1: 1\n",
            "Ingresa el numero 2: 1\n",
            "suma:  2  resta:  0  multiplicacion:  1  division:  1.0\n"
          ]
        }
      ]
    },
    {
      "cell_type": "code",
      "source": [
        "Nombre = input(\"CAPTURA TU NOMBRE: \")\n",
        "Total=len(Nombre)\n",
        "print(\"El total de caracteres del nombre es: \",Total)\n"
      ],
      "metadata": {
        "colab": {
          "base_uri": "https://localhost:8080/"
        },
        "id": "BrREBnTCAQCJ",
        "outputId": "15646a83-8940-4cb0-fbbc-f11e55b3a5b5"
      },
      "execution_count": 30,
      "outputs": [
        {
          "output_type": "stream",
          "name": "stdout",
          "text": [
            "CAPTURA TU NOMBREFer\n",
            "El total de caracteres del nombre es:  3\n"
          ]
        }
      ]
    },
    {
      "cell_type": "code",
      "source": [
        "semana=[\"lunes,martes,miercoles,jueves,viernes,sabado,domingo\"]\n",
        "for dia in semana:\n",
        " print(dia)"
      ],
      "metadata": {
        "colab": {
          "base_uri": "https://localhost:8080/"
        },
        "id": "irwZX4I5BikL",
        "outputId": "01ff4ab8-7cc5-4741-93e5-296560a9463d"
      },
      "execution_count": 26,
      "outputs": [
        {
          "output_type": "stream",
          "name": "stdout",
          "text": [
            "lunes,martes,miercoles,jueves,viernes,sabado,domingo\n"
          ]
        }
      ]
    }
  ]
}