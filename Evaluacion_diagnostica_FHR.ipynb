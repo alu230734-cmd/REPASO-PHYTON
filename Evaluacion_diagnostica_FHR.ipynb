{
  "nbformat": 4,
  "nbformat_minor": 0,
  "metadata": {
    "colab": {
      "provenance": [],
      "authorship_tag": "ABX9TyMYBWgRsRxPr1vep8Am76Vh",
      "include_colab_link": true
    },
    "kernelspec": {
      "name": "python3",
      "display_name": "Python 3"
    },
    "language_info": {
      "name": "python"
    }
  },
  "cells": [
    {
      "cell_type": "markdown",
      "metadata": {
        "id": "view-in-github",
        "colab_type": "text"
      },
      "source": [
        "<a href=\"https://colab.research.google.com/github/alu230734-cmd/REPASO-PHYTON/blob/main/Evaluacion_diagnostica_FHR.ipynb\" target=\"_parent\"><img src=\"https://colab.research.google.com/assets/colab-badge.svg\" alt=\"Open In Colab\"/></a>"
      ]
    },
    {
      "cell_type": "code",
      "execution_count": null,
      "metadata": {
        "id": "cbeEMFtLzzHJ"
      },
      "outputs": [],
      "source": []
    },
    {
      "cell_type": "markdown",
      "source": [
        "Codigo 1.- Imprimir nombre, paterno y materno de Alumno con CSS"
      ],
      "metadata": {
        "id": "YpMYjAqO0Xyl"
      }
    },
    {
      "cell_type": "code",
      "source": [
        "print(\"Imprime tu nombre completo\")\n",
        "nombre= input(\"Escribe tu nombre: \")\n",
        "p= input(\"Escribe tu nombre paterno: \")\n",
        "m= input(\"Escribe tu nombre materno: \")\n",
        "print(\"Tu nombre es: \", nombre, p , m)\n"
      ],
      "metadata": {
        "colab": {
          "base_uri": "https://localhost:8080/"
        },
        "id": "e1QwIZRu0bjQ",
        "outputId": "eb4f65de-f9d9-4b85-adbf-89634c4f1502"
      },
      "execution_count": 1,
      "outputs": [
        {
          "output_type": "stream",
          "name": "stdout",
          "text": [
            "Imprime tu nombre completo\n",
            "Escribe tu nombre: fernanda gabriela\n",
            "Escribe tu nombre paterno: hernandez\n",
            "Escribe tu nombre materno: rodriguez\n",
            "Tu nombre es:  fernanda gabriela hernandez rodriguez\n"
          ]
        }
      ]
    },
    {
      "cell_type": "markdown",
      "source": [
        "Codigo 2.- Capturar 2 números decimales e imprimir Suma"
      ],
      "metadata": {
        "id": "m0wcHxYO1v5C"
      }
    },
    {
      "cell_type": "code",
      "source": [
        "print(\"Suma dos numeros decimales\")\n",
        "n1=float(input(\"Escribe el primer numero:\"))\n",
        "n2=float(input(\"Escribe el segundo numero: \"))\n",
        "s=n1+n2\n",
        "print(\"El resultado de la suma es: \", s)"
      ],
      "metadata": {
        "colab": {
          "base_uri": "https://localhost:8080/"
        },
        "id": "XB2UD3rT14bu",
        "outputId": "c0fd0882-845f-4890-d1d9-2e51c1ae3bae"
      },
      "execution_count": 2,
      "outputs": [
        {
          "output_type": "stream",
          "name": "stdout",
          "text": [
            "Suma dos numeros decimales\n",
            "Escribe el primer numero:1.2\n",
            "Escribe el segundo numero: 1.2\n",
            "El resultado de la suma es:  2.4\n"
          ]
        }
      ]
    },
    {
      "cell_type": "markdown",
      "source": [
        "Codigo 3.- Calcular el área de un círculo"
      ],
      "metadata": {
        "id": "bCntWq0h149O"
      }
    },
    {
      "cell_type": "code",
      "source": [
        "print(\"Calcular el area de un circulo\")\n",
        "radio=float(input(\"Inserta el radio del circulo: \"))\n",
        "area=3.1416*(radio**2)\n",
        "print(\"El area del circulo es: \", area)"
      ],
      "metadata": {
        "colab": {
          "base_uri": "https://localhost:8080/"
        },
        "id": "gOdZe6V315nV",
        "outputId": "6d60ad80-5bb8-4bea-a73f-97e8405997ad"
      },
      "execution_count": 3,
      "outputs": [
        {
          "output_type": "stream",
          "name": "stdout",
          "text": [
            "Calcular el area de un circulo\n",
            "Inserta el radio del circulo: 34\n",
            "El area del circulo es:  3631.6896\n"
          ]
        }
      ]
    },
    {
      "cell_type": "markdown",
      "source": [
        "Codigo 4.- Ejemplo de código y ventana resultante de semestre pasado.\n",
        "\n",
        "const e = require(' e ');\n",
        "const a =e();\n",
        "var Co = 9;\n",
        "var Ca = 1;\n",
        "var A = Math.pow(9,1);\n",
        "var B = Math.pow(1,3);\n",
        "var C = A+B;\n",
        "var H = Math.sqrt(c);\n",
        "\n",
        "console.log(\"La hipotenusa es: \"+ H);"
      ],
      "metadata": {
        "id": "EFU_sunh2Am8"
      }
    }
  ]
}