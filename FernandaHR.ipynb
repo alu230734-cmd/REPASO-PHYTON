{
  "nbformat": 4,
  "nbformat_minor": 0,
  "metadata": {
    "colab": {
      "provenance": [],
      "authorship_tag": "ABX9TyPjXuukRWBML/Kaxml0KDrL",
      "include_colab_link": true
    },
    "kernelspec": {
      "name": "python3",
      "display_name": "Python 3"
    },
    "language_info": {
      "name": "python"
    }
  },
  "cells": [
    {
      "cell_type": "markdown",
      "metadata": {
        "id": "view-in-github",
        "colab_type": "text"
      },
      "source": [
        "<a href=\"https://colab.research.google.com/github/alu230734-cmd/REPASO-PHYTON/blob/main/FernandaHR.ipynb\" target=\"_parent\"><img src=\"https://colab.research.google.com/assets/colab-badge.svg\" alt=\"Open In Colab\"/></a>"
      ]
    },
    {
      "cell_type": "code",
      "execution_count": null,
      "metadata": {
        "id": "8FYrUpy4z7Ef"
      },
      "outputs": [],
      "source": []
    },
    {
      "cell_type": "markdown",
      "source": [
        "Programa en phyton para imprimir el nombre con hola mundo"
      ],
      "metadata": {
        "id": "AxIYhmFr0QjK"
      }
    },
    {
      "cell_type": "code",
      "source": [
        "print(\"Hola mundo\")\n",
        "nombre=(input(\"Captura tu nombre: \"))\n",
        "print(nombre)"
      ],
      "metadata": {
        "colab": {
          "base_uri": "https://localhost:8080/"
        },
        "id": "HONNz5BH0ZRH",
        "outputId": "ce91453b-584b-4fa1-e951-8ed3c991cc37"
      },
      "execution_count": 2,
      "outputs": [
        {
          "output_type": "stream",
          "name": "stdout",
          "text": [
            "Hola mundo\n",
            "Captura tu nombre: fer\n",
            "fer\n"
          ]
        }
      ]
    },
    {
      "cell_type": "markdown",
      "source": [
        "PROGRAMA 2 capturar tu nombre parteno y materno e imprimirlo en pantalla."
      ],
      "metadata": {
        "id": "iLSJfsB61Zlf"
      }
    },
    {
      "cell_type": "code",
      "source": [
        "print(\"Ingresa tu nombre completo\")\n",
        "nombre=(input(\"Inserta tu nombre: \"))\n",
        "P=(input(\"Ingresa tu apellido paterno: \"))\n",
        "M=(input(\"Ingresa tu apellido materno: \"))\n",
        "print(nombre+\" \"+P+\" \"+M)"
      ],
      "metadata": {
        "colab": {
          "base_uri": "https://localhost:8080/"
        },
        "id": "o7bIW_DN1nUV",
        "outputId": "41a9bf66-d4cf-4c7a-b05e-99a4c4d2091f"
      },
      "execution_count": 4,
      "outputs": [
        {
          "output_type": "stream",
          "name": "stdout",
          "text": [
            "Ingresa tu nombre completo\n",
            "Inserta tu nombre: fernanda gabriela\n",
            "Ingresa tu apellido paterno: hernandez\n",
            "Ingresa tu apellido materno: rodriguez\n",
            "fernanda gabriela hernandez rodriguez\n"
          ]
        }
      ]
    }
  ]
}